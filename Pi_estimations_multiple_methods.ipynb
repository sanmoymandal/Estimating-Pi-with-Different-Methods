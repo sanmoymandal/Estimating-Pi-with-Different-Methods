{
 "cells": [
  {
   "cell_type": "code",
   "execution_count": 1,
   "id": "405532d0-b5ae-4fb3-9b77-6abe3decc636",
   "metadata": {},
   "outputs": [],
   "source": [
    "import math\n",
    "import random\n",
    "import numpy as np\n",
    "import pandas as pd\n",
    "import matplotlib.pyplot as plt"
   ]
  },
  {
   "cell_type": "markdown",
   "id": "4bd0af57-ee9b-43d1-ac82-860033eb408c",
   "metadata": {},
   "source": [
    "<b><ins> Pi Estimation using ratio of number of points falling into a circle inscribed within a square<ins><b>\n",
    "    \n",
    "The concept used here is: suppose, number of points falling within inscribed circle is $N_{c}$ and number of points falling within square $N_{s}$\n",
    "\\begin{equation}\n",
    "    \\frac{N_{c}}{N_{s}} = \\frac{\\pi}{4}\n",
    "\\end{equation}"
   ]
  },
  {
   "cell_type": "code",
   "execution_count": 2,
   "id": "b6417689-8a1a-4604-bde3-73211abe434e",
   "metadata": {},
   "outputs": [],
   "source": [
    "#Classic method of estimating Pi\n",
    "def pi_estimation(N):\n",
    "    M = 0\n",
    "    for i in range(N):\n",
    "        x = random.uniform(-1,1)\n",
    "        y = random.uniform(-1,1)\n",
    "        if x**2 + y**2 <= 1:\n",
    "            M +=1\n",
    "    return (4*M)/N\n",
    "\n",
    "#Generating Pi for different number of simulations\n",
    "def pi_estimation_comparison(n):\n",
    "    S = np.random.uniform(1,n**2,n)\n",
    "    S = [math.trunc(S[i]) for i in range(len(S))]\n",
    "    pi_estimates = [pi_estimation(S[i]) for i in range(n)]\n",
    "    return S , pi_estimates"
   ]
  },
  {
   "cell_type": "code",
   "execution_count": 3,
   "id": "c0daa335-89aa-4d31-b2ec-faad602ae678",
   "metadata": {},
   "outputs": [],
   "source": [
    "df = pi_estimation_comparison(100)\n",
    "df = pd.DataFrame(df)\n",
    "df = df.T\n",
    "df.columns = [\"Number of Simulations\", \"Estimation of Pi\"]\n",
    "df = df.sort_values(by = ['Number of Simulations'])"
   ]
  },
  {
   "cell_type": "code",
   "execution_count": 4,
   "id": "a3de1541-5c36-4d8f-a769-ded0aabd9d25",
   "metadata": {},
   "outputs": [
    {
     "data": {
      "text/plain": [
       "3.141592653589793"
      ]
     },
     "execution_count": 4,
     "metadata": {},
     "output_type": "execute_result"
    }
   ],
   "source": [
    "math.pi"
   ]
  },
  {
   "cell_type": "code",
   "execution_count": 5,
   "id": "6b92eaec-0776-400a-b3e4-d4d325095829",
   "metadata": {},
   "outputs": [
    {
     "data": {
      "text/html": [
       "<div>\n",
       "<style scoped>\n",
       "    .dataframe tbody tr th:only-of-type {\n",
       "        vertical-align: middle;\n",
       "    }\n",
       "\n",
       "    .dataframe tbody tr th {\n",
       "        vertical-align: top;\n",
       "    }\n",
       "\n",
       "    .dataframe thead th {\n",
       "        text-align: right;\n",
       "    }\n",
       "</style>\n",
       "<table border=\"1\" class=\"dataframe\">\n",
       "  <thead>\n",
       "    <tr style=\"text-align: right;\">\n",
       "      <th></th>\n",
       "      <th>Number of Simulations</th>\n",
       "      <th>Estimation of Pi</th>\n",
       "    </tr>\n",
       "  </thead>\n",
       "  <tbody>\n",
       "    <tr>\n",
       "      <th>4</th>\n",
       "      <td>22.0</td>\n",
       "      <td>3.090909</td>\n",
       "    </tr>\n",
       "    <tr>\n",
       "      <th>21</th>\n",
       "      <td>24.0</td>\n",
       "      <td>3.500000</td>\n",
       "    </tr>\n",
       "    <tr>\n",
       "      <th>59</th>\n",
       "      <td>68.0</td>\n",
       "      <td>3.294118</td>\n",
       "    </tr>\n",
       "    <tr>\n",
       "      <th>31</th>\n",
       "      <td>171.0</td>\n",
       "      <td>3.204678</td>\n",
       "    </tr>\n",
       "    <tr>\n",
       "      <th>77</th>\n",
       "      <td>297.0</td>\n",
       "      <td>3.272727</td>\n",
       "    </tr>\n",
       "    <tr>\n",
       "      <th>...</th>\n",
       "      <td>...</td>\n",
       "      <td>...</td>\n",
       "    </tr>\n",
       "    <tr>\n",
       "      <th>91</th>\n",
       "      <td>9354.0</td>\n",
       "      <td>3.158435</td>\n",
       "    </tr>\n",
       "    <tr>\n",
       "      <th>38</th>\n",
       "      <td>9359.0</td>\n",
       "      <td>3.143498</td>\n",
       "    </tr>\n",
       "    <tr>\n",
       "      <th>34</th>\n",
       "      <td>9695.0</td>\n",
       "      <td>3.161630</td>\n",
       "    </tr>\n",
       "    <tr>\n",
       "      <th>87</th>\n",
       "      <td>9739.0</td>\n",
       "      <td>3.129685</td>\n",
       "    </tr>\n",
       "    <tr>\n",
       "      <th>81</th>\n",
       "      <td>9903.0</td>\n",
       "      <td>3.131172</td>\n",
       "    </tr>\n",
       "  </tbody>\n",
       "</table>\n",
       "<p>100 rows × 2 columns</p>\n",
       "</div>"
      ],
      "text/plain": [
       "    Number of Simulations  Estimation of Pi\n",
       "4                    22.0          3.090909\n",
       "21                   24.0          3.500000\n",
       "59                   68.0          3.294118\n",
       "31                  171.0          3.204678\n",
       "77                  297.0          3.272727\n",
       "..                    ...               ...\n",
       "91                 9354.0          3.158435\n",
       "38                 9359.0          3.143498\n",
       "34                 9695.0          3.161630\n",
       "87                 9739.0          3.129685\n",
       "81                 9903.0          3.131172\n",
       "\n",
       "[100 rows x 2 columns]"
      ]
     },
     "execution_count": 5,
     "metadata": {},
     "output_type": "execute_result"
    }
   ],
   "source": [
    "df"
   ]
  },
  {
   "cell_type": "code",
   "execution_count": 6,
   "id": "cdc052d1-b301-4854-b8b0-bb4234d43827",
   "metadata": {},
   "outputs": [
    {
     "data": {
      "text/plain": [
       "4       22.0\n",
       "21      24.0\n",
       "59      68.0\n",
       "31     171.0\n",
       "77     297.0\n",
       "       ...  \n",
       "91    9354.0\n",
       "38    9359.0\n",
       "34    9695.0\n",
       "87    9739.0\n",
       "81    9903.0\n",
       "Name: Number of Simulations, Length: 100, dtype: float64"
      ]
     },
     "execution_count": 6,
     "metadata": {},
     "output_type": "execute_result"
    }
   ],
   "source": [
    "df['Number of Simulations']"
   ]
  },
  {
   "cell_type": "code",
   "execution_count": 7,
   "id": "c8e5ab6f-6cdd-453d-bef1-00f46f566ab3",
   "metadata": {},
   "outputs": [
    {
     "data": {
      "image/png": "[encoded data removed]",
      "text/plain": [
       "<Figure size 640x480 with 1 Axes>"
      ]
     },
     "metadata": {},
     "output_type": "display_data"
    }
   ],
   "source": [
    "xpoints = df['Number of Simulations']\n",
    "ypoints = df['Estimation of Pi']\n",
    "plt.scatter(xpoints, ypoints, s=2, color = 'red')\n",
    "plt.ylim(3,3.5)\n",
    "plt.hlines(y=math.pi, xmin = 0, xmax = 10000, colors='blue', linestyles='--', lw=1, label='Mathematical Value of Pi')\n",
    "plt.title(\"Pi estimation using points within a inscribed circle\")\n",
    "plt.xlabel(\"Number of simulations\")\n",
    "plt.ylabel(\"Estimated values of Pi\")\n",
    "plt.show()"
   ]
  },
  {
   "cell_type": "markdown",
   "id": "7184728e-574e-425c-9f85-58dd0fd4089f",
   "metadata": {},
   "source": [
    "<b> <ins>Pi Estimation using Buffon's Needle Problem<ins> <b>\n",
    "\n",
    "Now lets move to another way of estimating Pi. Suppose, N needles of length l fell onto a plan with equally spaced parrallel lines. If the distance between two consecutive lines is d and out of N needles only x lie across the lines, then one can show that \n",
    "\\begin{equation}\n",
    "    \\frac{N}{x} = \\frac{1}{\\pi}\n",
    "\\end{equation}"
   ]
  },
  {
   "cell_type": "code",
   "execution_count": 8,
   "id": "3bb2ad07-bed9-485a-9ae2-45f1e80f6b57",
   "metadata": {},
   "outputs": [],
   "source": [
    "#Classic method of estimating Pi using Buffon's Needles\n",
    "def pi_estimation_buffons_needles(length, distance,N):\n",
    "    lie_across = 0\n",
    "    for i in range(N):\n",
    "        theta = random.uniform(0,90)\n",
    "        theta_radians = math.radians(theta)\n",
    "        center_distance = random.uniform(0,distance/2) \n",
    "        if center_distance <= (length*math.sin(theta_radians))/2:\n",
    "            lie_across+=1\n",
    "    if lie_across == 0:\n",
    "        return None\n",
    "    return (2*length*N)/(lie_across*distance)"
   ]
  },
  {
   "cell_type": "code",
   "execution_count": 9,
   "id": "da262e95-9fda-485d-be3f-c9b06a844fe3",
   "metadata": {},
   "outputs": [],
   "source": [
    "#Generating Pi for different number of simulations\n",
    "def pi_estimation_buffons_needles_comparison(length,distance):\n",
    "    S = [10, 50, 100, 500, 1000, 5000, 10000, 50000, 100000, 500000, 1000000]\n",
    "    pi_estimates = [pi_estimation_buffons_needles(length,distance,S[i]) for i in range(len(S))]\n",
    "    return S , pi_estimates"
   ]
  },
  {
   "cell_type": "code",
   "execution_count": 10,
   "id": "ae3bf5fd-ce56-4707-b656-26a9ad97a371",
   "metadata": {},
   "outputs": [
    {
     "data": {
      "text/plain": [
       "([10, 50, 100, 500, 1000, 5000, 10000, 50000, 100000, 500000, 1000000],\n",
       " [2.857142857142857,\n",
       "  3.5714285714285716,\n",
       "  3.4482758620689653,\n",
       "  2.9940119760479043,\n",
       "  3.1847133757961785,\n",
       "  3.1496062992125986,\n",
       "  3.1357792411414236,\n",
       "  3.146633102580239,\n",
       "  3.1444563235016667,\n",
       "  3.144466211138328,\n",
       "  3.1437989351953006])"
      ]
     },
     "execution_count": 10,
     "metadata": {},
     "output_type": "execute_result"
    }
   ],
   "source": [
    "pi_estimation_buffons_needles_comparison(1,1)"
   ]
  },
  {
   "cell_type": "code",
   "execution_count": 11,
   "id": "1bb9eaaa-c187-4416-8cba-8663400f232d",
   "metadata": {},
   "outputs": [],
   "source": [
    "df_buffons = pi_estimation_buffons_needles_comparison(1,1)\n",
    "df_buffons = pd.DataFrame(df_buffons)\n",
    "df_buffons = df_buffons.T\n",
    "df_buffons.columns = [\"Number of Simulations\", \"Estimation of Pi\"]\n",
    "df_buffons = df_buffons.sort_values(by = ['Number of Simulations'])"
   ]
  },
  {
   "cell_type": "code",
   "execution_count": 12,
   "id": "43f84a22-a510-495d-bb92-afd8df97cd39",
   "metadata": {},
   "outputs": [
    {
     "data": {
      "image/png": "[encoded data removed]",
      "text/plain": [
       "<Figure size 640x480 with 1 Axes>"
      ]
     },
     "metadata": {},
     "output_type": "display_data"
    }
   ],
   "source": [
    "xpoints = df_buffons['Number of Simulations']\n",
    "ypoints = df_buffons['Estimation of Pi']\n",
    "plt.scatter(xpoints, ypoints, s=2, color = 'red')\n",
    "plt.ylim(3,3.5)\n",
    "plt.hlines(y=math.pi, xmin = 0, xmax = 1000000, colors='blue', linestyles='--', lw=1, label='Mathematical Value of Pi')\n",
    "plt.title(\"Pi estimation using probability of needles lie accross planar parallel lines\")\n",
    "plt.xlabel(\"Number of simulations\")\n",
    "plt.ylabel(\"Estimated values of Pi\")\n",
    "plt.show()"
   ]
  },
  {
   "cell_type": "markdown",
   "id": "23b35266-3945-4bfe-8adf-b011873478f6",
   "metadata": {},
   "source": [
    "<b><ins>Pi Estimation using Riemann Zeta Function for s = 2<ins><b>\n",
    "\n",
    "\\begin{equation}\n",
    "    \\sum_{n = 1}^{\\infty}\\frac{1}{n^{2}} = \\frac{\\pi^{2}}{6}\n",
    "\\end{equation}"
   ]
  },
  {
   "cell_type": "code",
   "execution_count": 13,
   "id": "ebb51ab5-ddcc-4fe1-aba9-8607ffd3b595",
   "metadata": {},
   "outputs": [],
   "source": [
    "#Estimation of Pi using sum of infinite series\n",
    "#First method: Riemann Zeta function for s = 2!\n",
    "def pi_estimation_riemann_zeta2(N):\n",
    "    riemann_sum = 0\n",
    "    for i in range(1, N+1):\n",
    "        riemann_sum = riemann_sum + (1/(i*i))\n",
    "    return math.sqrt(6*riemann_sum)\n",
    "#Generating Pi for different number of simulations\n",
    "def pi_estimation_riemann_zeta2_comparison(N):\n",
    "    S = np.random.uniform(1,N**2,N)\n",
    "    S = [math.trunc(S[i]) for i in range(len(S))]\n",
    "    pi_estimates = [pi_estimation_riemann_zeta2(S[i]) for i in range(len(S))]\n",
    "    return S , pi_estimates"
   ]
  },
  {
   "cell_type": "code",
   "execution_count": 14,
   "id": "ef5c639e-211b-41b9-97ab-e5bfb71bbb5d",
   "metadata": {},
   "outputs": [],
   "source": [
    "df_zeta = pi_estimation_riemann_zeta2_comparison(100)\n",
    "df_zeta = pd.DataFrame(df_zeta)\n",
    "df_zeta = df_zeta.T\n",
    "df_zeta.columns = [\"Number of Simulations\", \"Estimation of Pi\"]\n",
    "df_zeta = df_zeta.sort_values(by = ['Number of Simulations'])"
   ]
  },
  {
   "cell_type": "code",
   "execution_count": 15,
   "id": "4a499c00-2fc6-4673-b837-9323e9ee73b9",
   "metadata": {},
   "outputs": [
    {
     "data": {
      "text/html": [
       "<div>\n",
       "<style scoped>\n",
       "    .dataframe tbody tr th:only-of-type {\n",
       "        vertical-align: middle;\n",
       "    }\n",
       "\n",
       "    .dataframe tbody tr th {\n",
       "        vertical-align: top;\n",
       "    }\n",
       "\n",
       "    .dataframe thead th {\n",
       "        text-align: right;\n",
       "    }\n",
       "</style>\n",
       "<table border=\"1\" class=\"dataframe\">\n",
       "  <thead>\n",
       "    <tr style=\"text-align: right;\">\n",
       "      <th></th>\n",
       "      <th>Number of Simulations</th>\n",
       "      <th>Estimation of Pi</th>\n",
       "    </tr>\n",
       "  </thead>\n",
       "  <tbody>\n",
       "    <tr>\n",
       "      <th>75</th>\n",
       "      <td>6.0</td>\n",
       "      <td>2.991376</td>\n",
       "    </tr>\n",
       "    <tr>\n",
       "      <th>0</th>\n",
       "      <td>33.0</td>\n",
       "      <td>3.112959</td>\n",
       "    </tr>\n",
       "    <tr>\n",
       "      <th>92</th>\n",
       "      <td>73.0</td>\n",
       "      <td>3.128574</td>\n",
       "    </tr>\n",
       "    <tr>\n",
       "      <th>24</th>\n",
       "      <td>167.0</td>\n",
       "      <td>3.135886</td>\n",
       "    </tr>\n",
       "    <tr>\n",
       "      <th>31</th>\n",
       "      <td>315.0</td>\n",
       "      <td>3.138564</td>\n",
       "    </tr>\n",
       "    <tr>\n",
       "      <th>...</th>\n",
       "      <td>...</td>\n",
       "      <td>...</td>\n",
       "    </tr>\n",
       "    <tr>\n",
       "      <th>18</th>\n",
       "      <td>9573.0</td>\n",
       "      <td>3.141493</td>\n",
       "    </tr>\n",
       "    <tr>\n",
       "      <th>81</th>\n",
       "      <td>9791.0</td>\n",
       "      <td>3.141495</td>\n",
       "    </tr>\n",
       "    <tr>\n",
       "      <th>98</th>\n",
       "      <td>9863.0</td>\n",
       "      <td>3.141496</td>\n",
       "    </tr>\n",
       "    <tr>\n",
       "      <th>25</th>\n",
       "      <td>9973.0</td>\n",
       "      <td>3.141497</td>\n",
       "    </tr>\n",
       "    <tr>\n",
       "      <th>89</th>\n",
       "      <td>9992.0</td>\n",
       "      <td>3.141497</td>\n",
       "    </tr>\n",
       "  </tbody>\n",
       "</table>\n",
       "<p>100 rows × 2 columns</p>\n",
       "</div>"
      ],
      "text/plain": [
       "    Number of Simulations  Estimation of Pi\n",
       "75                    6.0          2.991376\n",
       "0                    33.0          3.112959\n",
       "92                   73.0          3.128574\n",
       "24                  167.0          3.135886\n",
       "31                  315.0          3.138564\n",
       "..                    ...               ...\n",
       "18                 9573.0          3.141493\n",
       "81                 9791.0          3.141495\n",
       "98                 9863.0          3.141496\n",
       "25                 9973.0          3.141497\n",
       "89                 9992.0          3.141497\n",
       "\n",
       "[100 rows x 2 columns]"
      ]
     },
     "execution_count": 15,
     "metadata": {},
     "output_type": "execute_result"
    }
   ],
   "source": [
    "df_zeta"
   ]
  },
  {
   "cell_type": "code",
   "execution_count": 16,
   "id": "b532784b-4772-42cc-8f6c-2a8e92d068f9",
   "metadata": {},
   "outputs": [
    {
     "data": {
      "image/png": "[encoded data removed]",
      "text/plain": [
       "<Figure size 640x480 with 1 Axes>"
      ]
     },
     "metadata": {},
     "output_type": "display_data"
    }
   ],
   "source": [
    "xpoints = df_zeta['Number of Simulations']\n",
    "ypoints = df_zeta['Estimation of Pi']\n",
    "plt.scatter(xpoints, ypoints, s=2, color = 'red')\n",
    "plt.ylim(3,3.5)\n",
    "plt.hlines(y=math.pi, xmin = 0, xmax = 10000, colors='blue', linestyles='--', lw=1, label='Mathematical Value of Pi')\n",
    "plt.title(\"Pi estimation using Riemann Zeta Function for s = 2\")\n",
    "plt.xlabel(\"Number of simulations\")\n",
    "plt.ylabel(\"Estimated values of Pi\")\n",
    "plt.show()"
   ]
  },
  {
   "cell_type": "markdown",
   "id": "9f310771-ad5c-4d42-a2ea-011766be555c",
   "metadata": {},
   "source": [
    "<b> <ins>Pi Estimation using Nilakantha series<ins> <b>\n",
    "\n",
    "Nilakantha series is described as\n",
    "\\begin{equation}\n",
    "    \\pi = 3 + 4\\sum_{n = 0}^{\\infty}\\frac{(-1)^n}{(2n+2)(2n+3)(2n+4)}\n",
    "\\end{equation}"
   ]
  },
  {
   "cell_type": "code",
   "execution_count": 17,
   "id": "74e191a7-08d6-433c-bb3e-d27b5c641921",
   "metadata": {},
   "outputs": [],
   "source": [
    "#Second method: Sum upto N numbers using Nilakantha series\n",
    "def pi_estimation_nilakantha(N):\n",
    "    nilakantha_sum = 3 #Initialize with 3 as the first term is that in the series\n",
    "    for i in range(N):\n",
    "        M = (2*i + 2)*(2*i + 3)*(2*i + 4)\n",
    "        nilakantha_sum = nilakantha_sum + (4*((-1)**i))/M\n",
    "    return nilakantha_sum\n",
    "#Generating Pi for different number of simulations\n",
    "def pi_estimation_nilakantha_comparison(N):\n",
    "    S = np.random.uniform(1,N**2,N)\n",
    "    S = [math.trunc(S[i]) for i in range(len(S))]\n",
    "    pi_estimates = [pi_estimation_nilakantha(S[i]) for i in range(len(S))]\n",
    "    return S , pi_estimates"
   ]
  },
  {
   "cell_type": "code",
   "execution_count": 18,
   "id": "8aa30a55-d0f4-436f-951c-ac6cc099f0fc",
   "metadata": {},
   "outputs": [],
   "source": [
    "df_nilakantha = pi_estimation_nilakantha_comparison(100)\n",
    "df_nilakantha = pd.DataFrame(df_nilakantha)\n",
    "df_nilakantha = df_nilakantha.T\n",
    "df_nilakantha.columns = [\"Number of Simulations\", \"Estimation of Pi\"]\n",
    "df_nilakantha = df_nilakantha.sort_values(by = ['Number of Simulations'])"
   ]
  },
  {
   "cell_type": "code",
   "execution_count": 19,
   "id": "5a0edbf8-d407-4d1d-9bad-d18217abcd59",
   "metadata": {},
   "outputs": [
    {
     "data": {
      "text/html": [
       "<div>\n",
       "<style scoped>\n",
       "    .dataframe tbody tr th:only-of-type {\n",
       "        vertical-align: middle;\n",
       "    }\n",
       "\n",
       "    .dataframe tbody tr th {\n",
       "        vertical-align: top;\n",
       "    }\n",
       "\n",
       "    .dataframe thead th {\n",
       "        text-align: right;\n",
       "    }\n",
       "</style>\n",
       "<table border=\"1\" class=\"dataframe\">\n",
       "  <thead>\n",
       "    <tr style=\"text-align: right;\">\n",
       "      <th></th>\n",
       "      <th>Number of Simulations</th>\n",
       "      <th>Estimation of Pi</th>\n",
       "    </tr>\n",
       "  </thead>\n",
       "  <tbody>\n",
       "    <tr>\n",
       "      <th>40</th>\n",
       "      <td>72.0</td>\n",
       "      <td>3.141592</td>\n",
       "    </tr>\n",
       "    <tr>\n",
       "      <th>88</th>\n",
       "      <td>90.0</td>\n",
       "      <td>3.141592</td>\n",
       "    </tr>\n",
       "    <tr>\n",
       "      <th>64</th>\n",
       "      <td>124.0</td>\n",
       "      <td>3.141593</td>\n",
       "    </tr>\n",
       "    <tr>\n",
       "      <th>90</th>\n",
       "      <td>156.0</td>\n",
       "      <td>3.141593</td>\n",
       "    </tr>\n",
       "    <tr>\n",
       "      <th>46</th>\n",
       "      <td>305.0</td>\n",
       "      <td>3.141593</td>\n",
       "    </tr>\n",
       "    <tr>\n",
       "      <th>...</th>\n",
       "      <td>...</td>\n",
       "      <td>...</td>\n",
       "    </tr>\n",
       "    <tr>\n",
       "      <th>8</th>\n",
       "      <td>9472.0</td>\n",
       "      <td>3.141593</td>\n",
       "    </tr>\n",
       "    <tr>\n",
       "      <th>43</th>\n",
       "      <td>9753.0</td>\n",
       "      <td>3.141593</td>\n",
       "    </tr>\n",
       "    <tr>\n",
       "      <th>61</th>\n",
       "      <td>9776.0</td>\n",
       "      <td>3.141593</td>\n",
       "    </tr>\n",
       "    <tr>\n",
       "      <th>77</th>\n",
       "      <td>9793.0</td>\n",
       "      <td>3.141593</td>\n",
       "    </tr>\n",
       "    <tr>\n",
       "      <th>28</th>\n",
       "      <td>9897.0</td>\n",
       "      <td>3.141593</td>\n",
       "    </tr>\n",
       "  </tbody>\n",
       "</table>\n",
       "<p>100 rows × 2 columns</p>\n",
       "</div>"
      ],
      "text/plain": [
       "    Number of Simulations  Estimation of Pi\n",
       "40                   72.0          3.141592\n",
       "88                   90.0          3.141592\n",
       "64                  124.0          3.141593\n",
       "90                  156.0          3.141593\n",
       "46                  305.0          3.141593\n",
       "..                    ...               ...\n",
       "8                  9472.0          3.141593\n",
       "43                 9753.0          3.141593\n",
       "61                 9776.0          3.141593\n",
       "77                 9793.0          3.141593\n",
       "28                 9897.0          3.141593\n",
       "\n",
       "[100 rows x 2 columns]"
      ]
     },
     "execution_count": 19,
     "metadata": {},
     "output_type": "execute_result"
    }
   ],
   "source": [
    "df_nilakantha"
   ]
  },
  {
   "cell_type": "code",
   "execution_count": 20,
   "id": "849372ce-ff8f-4d58-8f72-318f8af76a14",
   "metadata": {
    "tags": []
   },
   "outputs": [
    {
     "data": {
      "image/png": "[encoded data removed]",
      "text/plain": [
       "<Figure size 640x480 with 1 Axes>"
      ]
     },
     "metadata": {},
     "output_type": "display_data"
    }
   ],
   "source": [
    "xpoints = df_nilakantha['Number of Simulations']\n",
    "ypoints = df_nilakantha['Estimation of Pi']\n",
    "plt.scatter(xpoints, ypoints, s=2, color = 'red')\n",
    "plt.ylim(3,3.5)\n",
    "plt.hlines(y=math.pi, xmin = 0, xmax = 10000, colors='blue', linestyles='--', lw=1, label='Mathematical Value of Pi')\n",
    "plt.title(\"Pi estimation using Nilakantha series\")\n",
    "plt.xlabel(\"Number of simulations\")\n",
    "plt.ylabel(\"Estimated values of Pi\")\n",
    "plt.show()"
   ]
  },
  {
   "cell_type": "markdown",
   "id": "7c41af37-4261-456a-91de-f9b8897366e9",
   "metadata": {},
   "source": [
    "<b> Concluding Remarks: <b>\n",
    "\n",
    "Here are a few noticable features in these four simulations-\n",
    "\n",
    "- The maximum variability among values of Pi is seen in Monte Carlo estimation of Pi using classical method.\n",
    "- The Nilakantha series converges to mathematical value of Pi faster than other methods\n",
    "- Among two Monte Carlo estimations, Buffon's needle idea converges to mathematical value of Pi quicker.\n",
    "- Nilakantha series generates the result of Pi which is close to acutal value within 100 iterations. "
   ]
  }
 ],
 "metadata": {
  "kernelspec": {
   "display_name": "Python 3 (ipykernel)",
   "language": "python",
   "name": "python3"
  },
  "language_info": {
   "codemirror_mode": {
    "name": "ipython",
    "version": 3
   },
   "file_extension": ".py",
   "mimetype": "text/x-python",
   "name": "python",
   "nbconvert_exporter": "python",
   "pygments_lexer": "ipython3",
   "version": "3.10.2"
  }
 },
 "nbformat": 4,
 "nbformat_minor": 5
}
